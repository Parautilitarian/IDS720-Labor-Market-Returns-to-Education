{
    "cells": [
        {
            "cell_type": "markdown",
            "metadata": {},
            "source": [
                "# Cleaning Data Exercises\n",
                "\n",
                "In this exercise, we'll be returning to the American Community Survey data we used previously to measuring racial income inequality in the United States. In today's exercise, we'll be using it to measure the returns to education and how those returns vary by race and gender.\n",
                "\n"
            ]
        },
        {
            "cell_type": "markdown",
            "metadata": {},
            "source": [
                "\n",
                "## Gradescope Autograding\n",
                "\n",
                "Please follow [all standard guidance](https://www.practicaldatascience.org/html/autograder_guidelines.html) for submitting this assignment to the Gradescope autograder, including storing your solutions in a dictionary called `results` and ensuring your notebook runs from the start to completion without any errors.\n",
                "\n",
                "For this assignment, please name your file `exercise_cleaning.ipynb` before uploading.\n",
                "\n",
                "You can check that you have answers for all questions in your `results` dictionary with this code:\n",
                "\n",
                "```python\n",
                "assert set(results.keys()) == {\n",
                "    \"ex5_age_young\",\n",
                "    \"ex5_age_old\",\n",
                "    \"ex7_avg_age\",\n",
                "    \"ex8_avg_age\",\n",
                "    \"ex9_num_college\",\n",
                "    \"ex11_share_male_w_degrees\",\n",
                "    \"ex11_share_female_w_degrees\",\n",
                "    \"ex12_comparing\",\n",
                "}\n",
                "```\n",
                "\n",
                "\n",
                "### Submission Limits\n",
                "\n",
                "Please remember that you are **only allowed three submissions to the autograder.** Your last submission (if you submit 3 or fewer times), or your third submission (if you submit more than 3 times) will determine your grade Submissions that error out will **not** count against this total."
            ]
        },
        {
            "cell_type": "markdown",
            "metadata": {},
            "source": [
                "## Exercises\n",
                "\n",
                "### Exercise 1\n",
                "\n",
                "For these cleaning exercises, we'll return to the ACS data we've used before one last time. We'll be working with `US_ACS_2017_10pct_sample.dta`. Import the data (please use url for the autograder)."
            ]
        },
        {
            "cell_type": "code",
            "execution_count": 2,
            "metadata": {},
            "outputs": [],
            "source": [
                "import pandas as pd\n",
                "import numpy as np\n",
                "\n",
                "pd.set_option(\"mode.copy_on_write\", True)\n",
                "\n",
                "acs = pd.read_stata(\n",
                "    \"https://github.com/nickeubank/MIDS_Data/raw/refs/heads/master/US_AmericanCommunitySurvey/US_ACS_2017_10pct_sample.dta\"\n",
                ")"
            ]
        },
        {
            "cell_type": "markdown",
            "metadata": {},
            "source": [
                "### Exercise 2\n",
                "\n",
                "For our exercises today, we'll focus on `age`, `sex`, `educ` (education), and `inctot` (total income). Subset your data to those variables, and quickly look at a sample of 10 rows."
            ]
        },
        {
            "cell_type": "code",
            "execution_count": 3,
            "metadata": {},
            "outputs": [
                {
                    "data": {
                        "text/html": [
                            "<div>\n",
                            "<style scoped>\n",
                            "    .dataframe tbody tr th:only-of-type {\n",
                            "        vertical-align: middle;\n",
                            "    }\n",
                            "\n",
                            "    .dataframe tbody tr th {\n",
                            "        vertical-align: top;\n",
                            "    }\n",
                            "\n",
                            "    .dataframe thead th {\n",
                            "        text-align: right;\n",
                            "    }\n",
                            "</style>\n",
                            "<table border=\"1\" class=\"dataframe\">\n",
                            "  <thead>\n",
                            "    <tr style=\"text-align: right;\">\n",
                            "      <th></th>\n",
                            "      <th>age</th>\n",
                            "      <th>sex</th>\n",
                            "      <th>educ</th>\n",
                            "      <th>inctot</th>\n",
                            "    </tr>\n",
                            "  </thead>\n",
                            "  <tbody>\n",
                            "    <tr>\n",
                            "      <th>64661</th>\n",
                            "      <td>61</td>\n",
                            "      <td>female</td>\n",
                            "      <td>grade 12</td>\n",
                            "      <td>15000</td>\n",
                            "    </tr>\n",
                            "    <tr>\n",
                            "      <th>147875</th>\n",
                            "      <td>93</td>\n",
                            "      <td>male</td>\n",
                            "      <td>5+ years of college</td>\n",
                            "      <td>95800</td>\n",
                            "    </tr>\n",
                            "    <tr>\n",
                            "      <th>151222</th>\n",
                            "      <td>16</td>\n",
                            "      <td>male</td>\n",
                            "      <td>grade 10</td>\n",
                            "      <td>0</td>\n",
                            "    </tr>\n",
                            "    <tr>\n",
                            "      <th>279063</th>\n",
                            "      <td>19</td>\n",
                            "      <td>male</td>\n",
                            "      <td>grade 12</td>\n",
                            "      <td>5400</td>\n",
                            "    </tr>\n",
                            "    <tr>\n",
                            "      <th>82362</th>\n",
                            "      <td>2</td>\n",
                            "      <td>male</td>\n",
                            "      <td>n/a or no schooling</td>\n",
                            "      <td>9999999</td>\n",
                            "    </tr>\n",
                            "    <tr>\n",
                            "      <th>150948</th>\n",
                            "      <td>20</td>\n",
                            "      <td>female</td>\n",
                            "      <td>grade 12</td>\n",
                            "      <td>3000</td>\n",
                            "    </tr>\n",
                            "    <tr>\n",
                            "      <th>286317</th>\n",
                            "      <td>22</td>\n",
                            "      <td>female</td>\n",
                            "      <td>4 years of college</td>\n",
                            "      <td>7000</td>\n",
                            "    </tr>\n",
                            "    <tr>\n",
                            "      <th>213840</th>\n",
                            "      <td>less than 1 year old</td>\n",
                            "      <td>male</td>\n",
                            "      <td>n/a or no schooling</td>\n",
                            "      <td>9999999</td>\n",
                            "    </tr>\n",
                            "    <tr>\n",
                            "      <th>302715</th>\n",
                            "      <td>92</td>\n",
                            "      <td>male</td>\n",
                            "      <td>grade 12</td>\n",
                            "      <td>20700</td>\n",
                            "    </tr>\n",
                            "    <tr>\n",
                            "      <th>257950</th>\n",
                            "      <td>2</td>\n",
                            "      <td>male</td>\n",
                            "      <td>n/a or no schooling</td>\n",
                            "      <td>9999999</td>\n",
                            "    </tr>\n",
                            "  </tbody>\n",
                            "</table>\n",
                            "</div>"
                        ],
                        "text/plain": [
                            "                         age     sex                 educ   inctot\n",
                            "64661                     61  female             grade 12    15000\n",
                            "147875                    93    male  5+ years of college    95800\n",
                            "151222                    16    male             grade 10        0\n",
                            "279063                    19    male             grade 12     5400\n",
                            "82362                      2    male  n/a or no schooling  9999999\n",
                            "150948                    20  female             grade 12     3000\n",
                            "286317                    22  female   4 years of college     7000\n",
                            "213840  less than 1 year old    male  n/a or no schooling  9999999\n",
                            "302715                    92    male             grade 12    20700\n",
                            "257950                     2    male  n/a or no schooling  9999999"
                        ]
                    },
                    "execution_count": 3,
                    "metadata": {},
                    "output_type": "execute_result"
                }
            ],
            "source": [
                "acs_data = acs[[\"age\", \"sex\", \"educ\", \"inctot\"]]\n",
                "acs_data.sample(10)"
            ]
        },
        {
            "cell_type": "markdown",
            "metadata": {},
            "source": [
                "### Exercise 3\n",
                "\n",
                "As before, all the values of `9999999` have the potential to cause us real problems, so replace all the values of `inctot` that are `9999999` with `np.nan`. "
            ]
        },
        {
            "cell_type": "code",
            "execution_count": 4,
            "metadata": {},
            "outputs": [],
            "source": [
                "acs_data[\"inctot\"] = acs_data[\"inctot\"].replace(to_replace=9999999, value=np.nan)"
            ]
        },
        {
            "cell_type": "markdown",
            "metadata": {},
            "source": [
                "### Exercise 4\n",
                "\n",
                "Attempt to calculate the average age of people in our data. What do you get? Why are you getting that error?\n",
                "\n",
                "You *should* get an error in trying to answer this question, but **PLEASE LEAVE THE CODE THAT GENERATES THIS ERROR COMMENTED OUT SO YOUR NOTEBOOK WILL RUN IN THE AUTOGRADER**. \n",
                "\n",
                "Then talk about the error in a markdown cell."
            ]
        },
        {
            "cell_type": "code",
            "execution_count": 5,
            "metadata": {},
            "outputs": [],
            "source": [
                "# acs_data[\"age\"].mean()"
            ]
        },
        {
            "cell_type": "markdown",
            "metadata": {},
            "source": [
                "**TypeError: 'Categorical' with dtype category does not support reduction 'mean'**"
            ]
        },
        {
            "cell_type": "markdown",
            "metadata": {},
            "source": [
                "### Exercise 5\n",
                "\n",
                "We want to be able to calculate things using age, so we need it to be a numeric type. Check the current type of `age`, and look at all the values of `age` to figure out why it's categorical and not numeric. You should find two problematic categories. Store the values of these categories in `\"ex5_age_young\"` and `\"ex5_age_old\"` (once you find them, it should be clear which is which)."
            ]
        },
        {
            "cell_type": "code",
            "execution_count": 6,
            "metadata": {},
            "outputs": [
                {
                    "data": {
                        "text/plain": [
                            "age\n",
                            "60    4950\n",
                            "54    4821\n",
                            "59    4776\n",
                            "56    4776\n",
                            "58    4734\n",
                            "      ... \n",
                            "93     476\n",
                            "95     471\n",
                            "92     355\n",
                            "91     227\n",
                            "96      10\n",
                            "Name: count, Length: 97, dtype: int64"
                        ]
                    },
                    "execution_count": 6,
                    "metadata": {},
                    "output_type": "execute_result"
                }
            ],
            "source": [
                "acs_data[\"age\"].value_counts()"
            ]
        },
        {
            "cell_type": "code",
            "execution_count": 7,
            "metadata": {},
            "outputs": [
                {
                    "name": "stdout",
                    "output_type": "stream",
                    "text": [
                        "The first problematic category in the dataset is 'less than 1 year old'; the second is '90 (90+ in 1980 and 1990).'\n"
                    ]
                }
            ],
            "source": [
                "results = {}\n",
                "\n",
                "results[\"ex5_age_young\"] = \"less than 1 year old\"\n",
                "results[\"ex5_age_old\"] = \"90 (90+ in 1980 and 1990)\"\n",
                "\n",
                "print(\n",
                "    f\"The first problematic category in the dataset is '{results['ex5_age_young']}'; the second is '{results['ex5_age_old']}.'\"\n",
                ")"
            ]
        },
        {
            "cell_type": "markdown",
            "metadata": {},
            "source": [
                "### Exercise 6\n",
                "\n",
                "In order to convert `age` into a numeric variable, we need to replace those problematic entries with values that `pandas` can later convert into numbers. Pick appropriate substitutions for the existing values and replace the current values. \n",
                "\n",
                "**Hint 1:** Categorical variables act like strings, so you might want to use string methods! \n",
                "\n",
                "**Hint 2:** Remember that characters like parentheses, pluses, asterisks, etc. are special in Python strings, and you have to escape them if you want them to be interpreted literally!\n",
                "\n",
                "**Hint 3:** Because the US Census has been conducted regularly for hundreds of years but exactly how the census has been conducted have occasionally changed, variables are sometimes coded in a way that might be interpreted in different ways for different census years. For example, hypothetically, one might write `90 (90+ in 1980 and 1990)` if the Censuses conducted in 1980 and 1990 used to top-code age at 90 (any values *over* 90 were just coded as 90), but more recent Censuses no longer top-coded age and recorded ages over 90 as the respondents actual age."
            ]
        },
        {
            "cell_type": "code",
            "execution_count": 8,
            "metadata": {},
            "outputs": [],
            "source": [
                "acs_data[\"age\"] = acs_data[\"age\"].cat.add_categories([\"0\"])\n",
                "acs_data.loc[acs_data[\"age\"] == results[\"ex5_age_young\"], \"age\"] = \"0\"\n",
                "\n",
                "acs_data[\"age\"] = acs_data[\"age\"].cat.add_categories([\"90\"])\n",
                "acs_data.loc[acs_data[\"age\"] == results[\"ex5_age_old\"], \"age\"] = \"90\""
            ]
        },
        {
            "cell_type": "code",
            "execution_count": 13,
            "metadata": {},
            "outputs": [],
            "source": [
                "to_drop = acs_data[\"age\"].isin([results[\"ex5_age_old\"], results[\"ex5_age_young\"]])\n",
                "\n",
                "acs_data.drop(acs_data[to_drop].index, inplace=True)\n",
                "\n",
                "acs_data[\"age\"] = acs_data[\"age\"].cat.remove_unused_categories()"
            ]
        },
        {
            "cell_type": "markdown",
            "metadata": {},
            "source": [
                "### Exercise 7\n",
                "\n",
                "Now convert age from a categorical to numeric. Calculate the average age amoung this group, and store it in `\"ex7_avg_age\"`."
            ]
        },
        {
            "cell_type": "code",
            "execution_count": 14,
            "metadata": {},
            "outputs": [
                {
                    "data": {
                        "text/plain": [
                            "Series([], Name: age, dtype: category\n",
                            "Categories (97, object): ['1' < '2' < '3' < '4' ... '95' < '96' < '0' < '90'])"
                        ]
                    },
                    "execution_count": 14,
                    "metadata": {},
                    "output_type": "execute_result"
                }
            ],
            "source": [
                "acs_data.loc[~acs_data[\"age\"].str.isnumeric(), \"age\"]"
            ]
        },
        {
            "cell_type": "code",
            "execution_count": 15,
            "metadata": {},
            "outputs": [],
            "source": [
                "acs_data[\"age\"] = acs_data[\"age\"].astype(\"float\")"
            ]
        },
        {
            "cell_type": "code",
            "execution_count": 16,
            "metadata": {},
            "outputs": [
                {
                    "name": "stdout",
                    "output_type": "stream",
                    "text": [
                        "The average age in the converted dataset is 41.30.\n"
                    ]
                }
            ],
            "source": [
                "results[\"ex7_avg_age\"] = acs_data[\"age\"].mean()\n",
                "\n",
                "print(f\"The average age in the converted dataset is {results['ex7_avg_age']:.2f}.\")"
            ]
        },
        {
            "cell_type": "markdown",
            "metadata": {},
            "source": [
                "### Exercise 8\n",
                "\n",
                "Let's now filter out anyone in our data whose age is less than 18. Note that before made `age` a numeric variable, we couldn't do this! Again, calculate the average age and this time store it in `\"ex8_avg_age\"`. \n",
                "\n",
                "Use this sample of people 18 and over for all subsequent exercises."
            ]
        },
        {
            "cell_type": "code",
            "execution_count": 17,
            "metadata": {},
            "outputs": [
                {
                    "name": "stdout",
                    "output_type": "stream",
                    "text": [
                        "The average age of adults in the dataset is 49.76.\n"
                    ]
                }
            ],
            "source": [
                "results[\"ex8_avg_age\"] = acs_data[acs_data[\"age\"] >= 18][\"age\"].mean()\n",
                "\n",
                "print(f\"The average age of adults in the dataset is {results['ex8_avg_age']:.2f}.\")"
            ]
        },
        {
            "cell_type": "markdown",
            "metadata": {},
            "source": [
                "### Exercise 9\n",
                "\n",
                "Create an indicator variable for whether each person has *at least* a college Bachelor's degree called `college_degree`. Use this variable to calculate the number of people in the dataset with a college degree. You may assume that to get a college degree you need to complete at least 4 years of college. Save the result as `\"ex9_num_college\"`."
            ]
        },
        {
            "cell_type": "code",
            "execution_count": 18,
            "metadata": {},
            "outputs": [
                {
                    "data": {
                        "text/plain": [
                            "educ\n",
                            "grade 12                     93133\n",
                            "4 years of college           47212\n",
                            "1 year of college            38779\n",
                            "5+ years of college          29801\n",
                            "nursery school to grade 4    24514\n",
                            "grade 5, 6, 7, or 8          21535\n",
                            "2 years of college           20757\n",
                            "n/a or no schooling          19562\n",
                            "grade 11                      8758\n",
                            "grade 10                      7818\n",
                            "grade 9                       7135\n",
                            "Name: count, dtype: int64"
                        ]
                    },
                    "execution_count": 18,
                    "metadata": {},
                    "output_type": "execute_result"
                }
            ],
            "source": [
                "acs_data[\"educ\"].value_counts()"
            ]
        },
        {
            "cell_type": "code",
            "execution_count": null,
            "metadata": {},
            "outputs": [
                {
                    "data": {
                        "text/plain": [
                            "college_degree\n",
                            "False    241991\n",
                            "True      77013\n",
                            "Name: count, dtype: int64"
                        ]
                    },
                    "execution_count": 19,
                    "metadata": {},
                    "output_type": "execute_result"
                }
            ],
            "source": [
                "acs_data[\"college_degree\"] = acs_data[\"educ\"].isin(\n",
                "    [\"4 years of college\", \"5+ years of college\"]\n",
                ")\n",
                "\n",
                "acs_data[\"college_degree\"].value_counts()"
            ]
        },
        {
            "cell_type": "code",
            "execution_count": 22,
            "metadata": {},
            "outputs": [
                {
                    "name": "stdout",
                    "output_type": "stream",
                    "text": [
                        "The number of people with college degrees in the dataset is 77,013.\n"
                    ]
                }
            ],
            "source": [
                "results[\"ex9_num_college\"] = acs_data[\"college_degree\"].sum()\n",
                "\n",
                "print(\n",
                "    f\"The number of people with college degrees in the dataset is {results['ex9_num_college']:,}.\"\n",
                ")"
            ]
        },
        {
            "cell_type": "markdown",
            "metadata": {},
            "source": [
                "### Exercise 10\n",
                "\n",
                "Let's examine how the educational gender gap. Use `pd.crosstab` to create a cross-tabulation of `sex` and `college_degree`. `pd.crosstab` will give you the number of people who have each combination of `sex` and `college_degree` (so in this case, it will give us a 2x2 table with Male and Female as rows, and `college_degree` True and False as columns, or vice versa. "
            ]
        },
        {
            "cell_type": "code",
            "execution_count": 23,
            "metadata": {},
            "outputs": [
                {
                    "data": {
                        "text/html": [
                            "<div>\n",
                            "<style scoped>\n",
                            "    .dataframe tbody tr th:only-of-type {\n",
                            "        vertical-align: middle;\n",
                            "    }\n",
                            "\n",
                            "    .dataframe tbody tr th {\n",
                            "        vertical-align: top;\n",
                            "    }\n",
                            "\n",
                            "    .dataframe thead th {\n",
                            "        text-align: right;\n",
                            "    }\n",
                            "</style>\n",
                            "<table border=\"1\" class=\"dataframe\">\n",
                            "  <thead>\n",
                            "    <tr style=\"text-align: right;\">\n",
                            "      <th>sex</th>\n",
                            "      <th>male</th>\n",
                            "      <th>female</th>\n",
                            "    </tr>\n",
                            "    <tr>\n",
                            "      <th>college_degree</th>\n",
                            "      <th></th>\n",
                            "      <th></th>\n",
                            "    </tr>\n",
                            "  </thead>\n",
                            "  <tbody>\n",
                            "    <tr>\n",
                            "      <th>False</th>\n",
                            "      <td>119684</td>\n",
                            "      <td>122307</td>\n",
                            "    </tr>\n",
                            "    <tr>\n",
                            "      <th>True</th>\n",
                            "      <td>36181</td>\n",
                            "      <td>40832</td>\n",
                            "    </tr>\n",
                            "  </tbody>\n",
                            "</table>\n",
                            "</div>"
                        ],
                        "text/plain": [
                            "sex               male  female\n",
                            "college_degree                \n",
                            "False           119684  122307\n",
                            "True             36181   40832"
                        ]
                    },
                    "execution_count": 23,
                    "metadata": {},
                    "output_type": "execute_result"
                }
            ],
            "source": [
                "pd.crosstab(acs_data[\"college_degree\"], acs_data[\"sex\"])"
            ]
        },
        {
            "cell_type": "markdown",
            "metadata": {},
            "source": [
                "### Exercise 11\n",
                "\n",
                "Counts are kind of hard to interpret. `pd.crosstab` can also normalize values to give percentages. Look at the `pd.crosstab` help file to figure out how to normalize the values in the table. Normalize them so that you get the share of men with and without college degree, and the share of women with and without college degrees.\n",
                "\n",
                "Store the share (between 0 and 1) of men with college degrees in `\"ex11_share_male_w_degrees\"`, and the share of women with degrees in `\"ex11_share_female_w_degrees\"`."
            ]
        },
        {
            "cell_type": "code",
            "execution_count": 26,
            "metadata": {},
            "outputs": [
                {
                    "data": {
                        "text/html": [
                            "<div>\n",
                            "<style scoped>\n",
                            "    .dataframe tbody tr th:only-of-type {\n",
                            "        vertical-align: middle;\n",
                            "    }\n",
                            "\n",
                            "    .dataframe tbody tr th {\n",
                            "        vertical-align: top;\n",
                            "    }\n",
                            "\n",
                            "    .dataframe thead th {\n",
                            "        text-align: right;\n",
                            "    }\n",
                            "</style>\n",
                            "<table border=\"1\" class=\"dataframe\">\n",
                            "  <thead>\n",
                            "    <tr style=\"text-align: right;\">\n",
                            "      <th>sex</th>\n",
                            "      <th>male</th>\n",
                            "      <th>female</th>\n",
                            "    </tr>\n",
                            "    <tr>\n",
                            "      <th>college_degree</th>\n",
                            "      <th></th>\n",
                            "      <th></th>\n",
                            "    </tr>\n",
                            "  </thead>\n",
                            "  <tbody>\n",
                            "    <tr>\n",
                            "      <th>False</th>\n",
                            "      <td>0.76787</td>\n",
                            "      <td>0.74971</td>\n",
                            "    </tr>\n",
                            "    <tr>\n",
                            "      <th>True</th>\n",
                            "      <td>0.23213</td>\n",
                            "      <td>0.25029</td>\n",
                            "    </tr>\n",
                            "  </tbody>\n",
                            "</table>\n",
                            "</div>"
                        ],
                        "text/plain": [
                            "sex                male   female\n",
                            "college_degree                  \n",
                            "False           0.76787  0.74971\n",
                            "True            0.23213  0.25029"
                        ]
                    },
                    "execution_count": 26,
                    "metadata": {},
                    "output_type": "execute_result"
                }
            ],
            "source": [
                "pd.crosstab(acs_data[\"college_degree\"], acs_data[\"sex\"], normalize=\"columns\")"
            ]
        },
        {
            "cell_type": "code",
            "execution_count": 31,
            "metadata": {},
            "outputs": [
                {
                    "name": "stdout",
                    "output_type": "stream",
                    "text": [
                        "The share of males with college degrees is 23.21%;\n",
                        "The share of females with college degrees is 25.03%.\n"
                    ]
                }
            ],
            "source": [
                "results[\"ex11_share_male_w_degree\"] = 0.23213\n",
                "results[\"ex11_share_female_w_degree\"] = 0.25029\n",
                "\n",
                "print(\n",
                "    f\"The share of males with college degrees is {results['ex11_share_male_w_degree']:.2%};\\n\"\n",
                "    f\"The share of females with college degrees is {results['ex11_share_female_w_degree']:.2%}.\"\n",
                ")"
            ]
        },
        {
            "cell_type": "markdown",
            "metadata": {},
            "source": [
                "### Exercise 12\n",
                "\n",
                "Now, let's recreate that table for people who are 40 and over and people under 40. Over time, what does this suggest about the absolute difference in the share of men and women earning college degrees? Has it gotten larger, stayed the same, or gotten smaller? Store your answer (either `\"the absolute difference has increased\"` or `\"the absolute difference has decreased\"`) in `\"ex12_comparing\"`."
            ]
        },
        {
            "cell_type": "markdown",
            "metadata": {},
            "source": [
                "### Exercise 13\n",
                "\n",
                "In words, what is causing the change noted in Exercise 12 (i.e., looking at the tables above, tell me a story about Men and Women's College attainment)."
            ]
        },
        {
            "cell_type": "markdown",
            "metadata": {},
            "source": [
                "## Want More Practice?\n",
                "\n",
                "Calculate the educational racial gap in the United States for White Americans, Black Americans, Hispanic Americans, and other groups. \n",
                "\n",
                "Note that to do these calculations, you'll have to deal with the fact that unlike most Americans, the American Census Bureau treats \"Hispanic\" not as a racial category, but a linguistic one. As a result, the racial category \"White\" in `race` actually includes most Hispanic Americans. For this analysis, we wish to work with the mutually exclusive categories of \"White, non-Hispanic\", \"White, Hispanic\", \"Black (Hispanic or non-Hispanic)\", and a category for everyone else. "
            ]
        }
    ],
    "metadata": {
        "kernelspec": {
            "display_name": "base",
            "language": "python",
            "name": "python3"
        },
        "language_info": {
            "codemirror_mode": {
                "name": "ipython",
                "version": 3
            },
            "file_extension": ".py",
            "mimetype": "text/x-python",
            "name": "python",
            "nbconvert_exporter": "python",
            "pygments_lexer": "ipython3",
            "version": "3.12.11"
        }
    },
    "nbformat": 4,
    "nbformat_minor": 4
}
