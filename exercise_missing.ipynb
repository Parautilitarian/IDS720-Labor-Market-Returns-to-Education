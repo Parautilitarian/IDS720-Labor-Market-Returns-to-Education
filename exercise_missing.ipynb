{
 "cells": [
  {
   "cell_type": "markdown",
   "metadata": {},
   "source": [
    "# Missing Values Exercises\n"
   ]
  },
  {
   "cell_type": "markdown",
   "metadata": {},
   "source": [
    "## Gradescope Autograding\n",
    "\n",
    "Please follow [all standard guidance](https://www.practicaldatascience.org/ids720_specific/autograder_guidelines.html) for submitting this assignment to the Gradescope autograder, including storing your solutions in a dictionary called `results` and ensuring your notebook runs from the start to completion without any errors.\n",
    "\n",
    "For this assignment, please name your file `exercise_missing.ipynb` before uploading.\n",
    "\n",
    "You can check that you have answers for all questions in your `results` dictionary with this code:\n",
    "\n",
    "\n",
    "```python\n",
    "assert set(results.keys()) == {\n",
    "    \"ex2_avg_income\",\n",
    "    \"ex3_share_making_9999999\",\n",
    "    \"ex3_share_making_zero\",\n",
    "    \"ex5_avg_income\",\n",
    "    \"ex8_avg_income_black\",\n",
    "    \"ex8_avg_income_white\",\n",
    "    \"ex8_racial_difference\",\n",
    "    \"ex9_avg_income_black\",\n",
    "    \"ex9_avg_income_white\",\n",
    "    \"ex10_wage_gap\",\n",
    "}\n",
    "```\n",
    "\n",
    "### Submission Limits\n",
    "\n",
    "Please remember that you are **only allowed three submissions to the autograder.** Your last submission (if you submit 3 or fewer times), or your third submission (if you submit more than 3 times) will determine your grade Submissions that error out will **not** count against this total.\n"
   ]
  },
  {
   "cell_type": "markdown",
   "metadata": {},
   "source": [
    "## Exercises"
   ]
  },
  {
   "cell_type": "markdown",
   "metadata": {},
   "source": [
    "### Exercise 1\n",
    "\n",
    "Today, we will be using the ACS data we used during out first `pandas` exercise to examine the US income distribution, and how it varies by race. Note that because the US income distribution has a very small number of people with *extremely* high incomes, and the ACS is just a sample of Americans, the far right tail of the distribution will not be very well estimated. However, this data should suffice for helping to understand wealth inequality in the United States. \n",
    "\n",
    "To begin, load the ACS Data we used in our first pandas exercise. That [data can be found here](https://github.com/nickeubank/MIDS_Data/tree/master/US_AmericanCommunitySurvey). We'll be working with `US_ACS_2017_10pct_sample.dta`. "
   ]
  },
  {
   "cell_type": "code",
   "execution_count": 41,
   "metadata": {},
   "outputs": [
    {
     "data": {
      "text/html": [
       "<div>\n",
       "<style scoped>\n",
       "    .dataframe tbody tr th:only-of-type {\n",
       "        vertical-align: middle;\n",
       "    }\n",
       "\n",
       "    .dataframe tbody tr th {\n",
       "        vertical-align: top;\n",
       "    }\n",
       "\n",
       "    .dataframe thead th {\n",
       "        text-align: right;\n",
       "    }\n",
       "</style>\n",
       "<table border=\"1\" class=\"dataframe\">\n",
       "  <thead>\n",
       "    <tr style=\"text-align: right;\">\n",
       "      <th></th>\n",
       "      <th>year</th>\n",
       "      <th>datanum</th>\n",
       "      <th>serial</th>\n",
       "      <th>cbserial</th>\n",
       "      <th>numprec</th>\n",
       "      <th>subsamp</th>\n",
       "      <th>hhwt</th>\n",
       "      <th>hhtype</th>\n",
       "      <th>cluster</th>\n",
       "      <th>adjust</th>\n",
       "      <th>...</th>\n",
       "      <th>migcounty1</th>\n",
       "      <th>migmet131</th>\n",
       "      <th>vetdisab</th>\n",
       "      <th>diffrem</th>\n",
       "      <th>diffphys</th>\n",
       "      <th>diffmob</th>\n",
       "      <th>diffcare</th>\n",
       "      <th>diffsens</th>\n",
       "      <th>diffeye</th>\n",
       "      <th>diffhear</th>\n",
       "    </tr>\n",
       "  </thead>\n",
       "  <tbody>\n",
       "    <tr>\n",
       "      <th>244927</th>\n",
       "      <td>2017</td>\n",
       "      <td>1</td>\n",
       "      <td>263331</td>\n",
       "      <td>2.017001e+12</td>\n",
       "      <td>4</td>\n",
       "      <td>36</td>\n",
       "      <td>75</td>\n",
       "      <td>female householder, no husband present</td>\n",
       "      <td>2.017003e+12</td>\n",
       "      <td>1.011189</td>\n",
       "      <td>...</td>\n",
       "      <td>0</td>\n",
       "      <td>not in identifiable area</td>\n",
       "      <td>n/a</td>\n",
       "      <td>no cognitive difficulty</td>\n",
       "      <td>no ambulatory difficulty</td>\n",
       "      <td>no independent living difficulty</td>\n",
       "      <td>no</td>\n",
       "      <td>no vision or hearing difficulty</td>\n",
       "      <td>no</td>\n",
       "      <td>no</td>\n",
       "    </tr>\n",
       "    <tr>\n",
       "      <th>136667</th>\n",
       "      <td>2017</td>\n",
       "      <td>1</td>\n",
       "      <td>1225819</td>\n",
       "      <td>2.017001e+12</td>\n",
       "      <td>2</td>\n",
       "      <td>73</td>\n",
       "      <td>198</td>\n",
       "      <td>married-couple family household</td>\n",
       "      <td>2.017012e+12</td>\n",
       "      <td>1.011189</td>\n",
       "      <td>...</td>\n",
       "      <td>0</td>\n",
       "      <td>not in identifiable area</td>\n",
       "      <td>n/a</td>\n",
       "      <td>no cognitive difficulty</td>\n",
       "      <td>no ambulatory difficulty</td>\n",
       "      <td>no independent living difficulty</td>\n",
       "      <td>no</td>\n",
       "      <td>no vision or hearing difficulty</td>\n",
       "      <td>no</td>\n",
       "      <td>no</td>\n",
       "    </tr>\n",
       "    <tr>\n",
       "      <th>633</th>\n",
       "      <td>2017</td>\n",
       "      <td>1</td>\n",
       "      <td>1077974</td>\n",
       "      <td>2.017001e+12</td>\n",
       "      <td>4</td>\n",
       "      <td>16</td>\n",
       "      <td>77</td>\n",
       "      <td>married-couple family household</td>\n",
       "      <td>2.017011e+12</td>\n",
       "      <td>1.011189</td>\n",
       "      <td>...</td>\n",
       "      <td>0</td>\n",
       "      <td>not in identifiable area</td>\n",
       "      <td>n/a</td>\n",
       "      <td>no cognitive difficulty</td>\n",
       "      <td>no ambulatory difficulty</td>\n",
       "      <td>no independent living difficulty</td>\n",
       "      <td>no</td>\n",
       "      <td>no vision or hearing difficulty</td>\n",
       "      <td>no</td>\n",
       "      <td>no</td>\n",
       "    </tr>\n",
       "    <tr>\n",
       "      <th>188801</th>\n",
       "      <td>2017</td>\n",
       "      <td>1</td>\n",
       "      <td>1142723</td>\n",
       "      <td>2.017000e+12</td>\n",
       "      <td>1 person record</td>\n",
       "      <td>24</td>\n",
       "      <td>46</td>\n",
       "      <td>female householder, living alone</td>\n",
       "      <td>2.017011e+12</td>\n",
       "      <td>1.011189</td>\n",
       "      <td>...</td>\n",
       "      <td>0</td>\n",
       "      <td>not in identifiable area</td>\n",
       "      <td>n/a</td>\n",
       "      <td>no cognitive difficulty</td>\n",
       "      <td>no ambulatory difficulty</td>\n",
       "      <td>no independent living difficulty</td>\n",
       "      <td>no</td>\n",
       "      <td>no vision or hearing difficulty</td>\n",
       "      <td>no</td>\n",
       "      <td>no</td>\n",
       "    </tr>\n",
       "    <tr>\n",
       "      <th>195537</th>\n",
       "      <td>2017</td>\n",
       "      <td>1</td>\n",
       "      <td>252634</td>\n",
       "      <td>2.017001e+12</td>\n",
       "      <td>3</td>\n",
       "      <td>22</td>\n",
       "      <td>68</td>\n",
       "      <td>married-couple family household</td>\n",
       "      <td>2.017003e+12</td>\n",
       "      <td>1.011189</td>\n",
       "      <td>...</td>\n",
       "      <td>0</td>\n",
       "      <td>not in identifiable area</td>\n",
       "      <td>n/a</td>\n",
       "      <td>no cognitive difficulty</td>\n",
       "      <td>no ambulatory difficulty</td>\n",
       "      <td>no independent living difficulty</td>\n",
       "      <td>no</td>\n",
       "      <td>no vision or hearing difficulty</td>\n",
       "      <td>no</td>\n",
       "      <td>no</td>\n",
       "    </tr>\n",
       "  </tbody>\n",
       "</table>\n",
       "<p>5 rows × 104 columns</p>\n",
       "</div>"
      ],
      "text/plain": [
       "        year  datanum   serial      cbserial          numprec subsamp  hhwt  \\\n",
       "244927  2017        1   263331  2.017001e+12                4      36    75   \n",
       "136667  2017        1  1225819  2.017001e+12                2      73   198   \n",
       "633     2017        1  1077974  2.017001e+12                4      16    77   \n",
       "188801  2017        1  1142723  2.017000e+12  1 person record      24    46   \n",
       "195537  2017        1   252634  2.017001e+12                3      22    68   \n",
       "\n",
       "                                        hhtype       cluster    adjust  ...  \\\n",
       "244927  female householder, no husband present  2.017003e+12  1.011189  ...   \n",
       "136667         married-couple family household  2.017012e+12  1.011189  ...   \n",
       "633            married-couple family household  2.017011e+12  1.011189  ...   \n",
       "188801        female householder, living alone  2.017011e+12  1.011189  ...   \n",
       "195537         married-couple family household  2.017003e+12  1.011189  ...   \n",
       "\n",
       "        migcounty1                 migmet131 vetdisab  \\\n",
       "244927           0  not in identifiable area      n/a   \n",
       "136667           0  not in identifiable area      n/a   \n",
       "633              0  not in identifiable area      n/a   \n",
       "188801           0  not in identifiable area      n/a   \n",
       "195537           0  not in identifiable area      n/a   \n",
       "\n",
       "                        diffrem                  diffphys  \\\n",
       "244927  no cognitive difficulty  no ambulatory difficulty   \n",
       "136667  no cognitive difficulty  no ambulatory difficulty   \n",
       "633     no cognitive difficulty  no ambulatory difficulty   \n",
       "188801  no cognitive difficulty  no ambulatory difficulty   \n",
       "195537  no cognitive difficulty  no ambulatory difficulty   \n",
       "\n",
       "                                 diffmob diffcare  \\\n",
       "244927  no independent living difficulty       no   \n",
       "136667  no independent living difficulty       no   \n",
       "633     no independent living difficulty       no   \n",
       "188801  no independent living difficulty       no   \n",
       "195537  no independent living difficulty       no   \n",
       "\n",
       "                               diffsens  diffeye  diffhear  \n",
       "244927  no vision or hearing difficulty       no        no  \n",
       "136667  no vision or hearing difficulty       no        no  \n",
       "633     no vision or hearing difficulty       no        no  \n",
       "188801  no vision or hearing difficulty       no        no  \n",
       "195537  no vision or hearing difficulty       no        no  \n",
       "\n",
       "[5 rows x 104 columns]"
      ]
     },
     "execution_count": 41,
     "metadata": {},
     "output_type": "execute_result"
    }
   ],
   "source": [
    "import pandas as pd\n",
    "\n",
    "pd.set_option(\"mode.copy_on_write\", True)\n",
    "\n",
    "url = \"https://github.com/nickeubank/MIDS_Data/raw/refs/heads/master/US_AmericanCommunitySurvey/US_ACS_2017_10pct_sample.dta\"\n",
    "\n",
    "df = pd.read_stata(url)\n",
    "\n",
    "df.sample(5)"
   ]
  },
  {
   "cell_type": "markdown",
   "metadata": {},
   "source": [
    "### Exercise 2\n",
    "\n",
    "Let's begin by calculating the mean US incomes from this data (recall that income is stored in the `inctot` variable). Store the answer in `results` under the key `\"ex2_avg_income\"`."
   ]
  },
  {
   "cell_type": "code",
   "execution_count": 42,
   "metadata": {},
   "outputs": [
    {
     "name": "stdout",
     "output_type": "stream",
     "text": [
      "The mean U.S. income is $1,723,646.27\n"
     ]
    }
   ],
   "source": [
    "results = {}\n",
    "\n",
    "results[\"ex2_avg_income\"] = df[\"inctot\"].mean()\n",
    "\n",
    "print(f\"The mean U.S. income is ${results['ex2_avg_income']:,.2f}\")"
   ]
  },
  {
   "cell_type": "markdown",
   "metadata": {},
   "source": [
    "### Exercise 3\n",
    "\n",
    "Hmmm... That doesn't look right. The average American is definitely not earning that much a year! Let's look at the values of `inctot` using `value_counts()`. Do you see a problem?\n",
    "\n",
    "Now use `value_counts()` with the argument `normalize=True` to see proportions of the sample that report each value instead of the count of people in each category. What percentage of our sample has an income of 9,999,999? Store that proportion (between 0 and 1) as `\"ex3_share_making_9999999\"`. What percentage has an income of 0? Store that proportion as `\"ex3_share_making_zero\"`.\n",
    "\n",
    "(Recall `.value_counts()` returns a Series, so you can pull values out with our usual pandas tools.)"
   ]
  },
  {
   "cell_type": "code",
   "execution_count": 43,
   "metadata": {},
   "outputs": [
    {
     "data": {
      "text/plain": [
       "inctot\n",
       "9999999    53901\n",
       "0          33679\n",
       "30000       4778\n",
       "50000       4414\n",
       "40000       4413\n",
       "           ...  \n",
       "70520          1\n",
       "76680          1\n",
       "57760          1\n",
       "200310         1\n",
       "505400         1\n",
       "Name: count, Length: 8471, dtype: int64"
      ]
     },
     "execution_count": 43,
     "metadata": {},
     "output_type": "execute_result"
    }
   ],
   "source": [
    "df[\"inctot\"].value_counts(dropna=False)"
   ]
  },
  {
   "cell_type": "code",
   "execution_count": 44,
   "metadata": {},
   "outputs": [
    {
     "data": {
      "text/plain": [
       "inctot\n",
       "9999999    0.168967\n",
       "0          0.105575\n",
       "30000      0.014978\n",
       "50000      0.013837\n",
       "40000      0.013834\n",
       "             ...   \n",
       "70520      0.000003\n",
       "76680      0.000003\n",
       "57760      0.000003\n",
       "200310     0.000003\n",
       "505400     0.000003\n",
       "Name: proportion, Length: 8471, dtype: float64"
      ]
     },
     "execution_count": 44,
     "metadata": {},
     "output_type": "execute_result"
    }
   ],
   "source": [
    "inc_count = df[\"inctot\"].value_counts(normalize=True)\n",
    "inc_count"
   ]
  },
  {
   "cell_type": "code",
   "execution_count": 45,
   "metadata": {},
   "outputs": [
    {
     "name": "stdout",
     "output_type": "stream",
     "text": [
      "The share of people making $9,999,999 is 16.90%\n",
      "The share of people making $0 is 10.56%\n"
     ]
    }
   ],
   "source": [
    "results[\"ex3_share_making_9999999\"] = inc_count[9999999]\n",
    "print(\n",
    "    f\"The share of people making $9,999,999 is {results['ex3_share_making_9999999']:.2%}\"\n",
    ")\n",
    "\n",
    "results[\"ex3_share_making_zero\"] = inc_count[0]\n",
    "print(f\"The share of people making $0 is {results['ex3_share_making_zero']:.2%}\")"
   ]
  },
  {
   "cell_type": "markdown",
   "metadata": {},
   "source": [
    "### Exercise 4\n",
    "\n",
    "As we discussed before, the ACS uses a value of 9999999 to denote that income information is not available for someone. The problem with using this kind of \"sentinel value\" is that pandas doesn't understand that this is supposed to denote missing data, and so when it averages the variable, it doesn't know to ignore 9999999. \n",
    "\n",
    "To help out `pandas`, use the `replace` command to replace all values of 9999999 with `np.nan`. "
   ]
  },
  {
   "cell_type": "code",
   "execution_count": 46,
   "metadata": {},
   "outputs": [],
   "source": [
    "import numpy as np\n",
    "\n",
    "# replace 9999999 with NaN\n",
    "df[\"inctot\"] = df[\"inctot\"].replace(9999999, np.nan)"
   ]
  },
  {
   "cell_type": "markdown",
   "metadata": {},
   "source": [
    "### Exercise 5\n",
    "\n",
    "Now that we've properly labeled our missing data as `np.nan`, let's calculate the average US income once more. Store the answer in `results` under the key `\"ex5_avg_income\"`."
   ]
  },
  {
   "cell_type": "code",
   "execution_count": 47,
   "metadata": {},
   "outputs": [
    {
     "name": "stdout",
     "output_type": "stream",
     "text": [
      "The mean U.S. income is $40,890.18\n"
     ]
    }
   ],
   "source": [
    "results[\"ex5_avg_income\"] = df[\"inctot\"].mean()\n",
    "print(f\"The mean U.S. income is ${results['ex5_avg_income']:,.2f}\")"
   ]
  },
  {
   "cell_type": "markdown",
   "metadata": {},
   "source": [
    "### Exercise 6\n",
    "\n",
    "OK, now we've been able to get a reasonable average income number. As we can see, a major advantage of using `np.nan` is that `pandas` knows that `np.nan` observations should just be ignored when we are calculating means. \n",
    "\n",
    "But it's not enough to just get rid of the people who had `inctot` values of 9999999. We also need to know why those values were missing. Suppose, for example, that the value of 9999999 was used for anyone who made more than 100,000 dollars: if we just dropped those people, then our estimate of average income wouldn't mean much, would it?\n",
    "\n",
    "So let's make sure we understand *why* data is missing for some people. If you recall from our last exercise, it seemed to be the case that most of the people who had incomes of 9999999 were children. Let's make sure that's true by looking at the distribution of the variable `age` for people for whom `inctot` is missing (i.e. subset the data to people with `inctot` missing, then look at the values of `age` with `value_counts()`).\n",
    "\n",
    "Then do the opposite: look at the distribution of the `age` variable for people who whom `inctot` is *not* missing. \n",
    "\n",
    "Can you determine when 9999999 was being used? Is it ok we're excluding those people from our analysis?\n",
    "\n",
    "Note: In this data, Python doesn't understand `age` is a number; it thinks it is a string because the original data has categories like \"90 (90+ in 1980 and 1990)\" and \"less than 1 year old\". So you can't just use `min()` or `max()`. We'll discuss converting string variables into numbers in a future class."
   ]
  },
  {
   "cell_type": "code",
   "execution_count": 48,
   "metadata": {},
   "outputs": [
    {
     "data": {
      "text/plain": [
       "age\n",
       "10    3997\n",
       "9     3977\n",
       "14    3847\n",
       "12    3845\n",
       "13    3800\n",
       "      ... \n",
       "39       0\n",
       "38       0\n",
       "37       0\n",
       "36       0\n",
       "96       0\n",
       "Name: count, Length: 97, dtype: int64"
      ]
     },
     "execution_count": 48,
     "metadata": {},
     "output_type": "execute_result"
    }
   ],
   "source": [
    "# look at the distribution of the age variable for people who whom `inctot` is missing\n",
    "df[\"age\"][df[\"inctot\"].isna()].value_counts(dropna=False)"
   ]
  },
  {
   "cell_type": "code",
   "execution_count": 49,
   "metadata": {},
   "outputs": [
    {
     "data": {
      "text/plain": [
       "age\n",
       "60                      4950\n",
       "54                      4821\n",
       "59                      4776\n",
       "56                      4776\n",
       "58                      4734\n",
       "                        ... \n",
       "5                          0\n",
       "4                          0\n",
       "3                          0\n",
       "2                          0\n",
       "less than 1 year old       0\n",
       "Name: count, Length: 97, dtype: int64"
      ]
     },
     "execution_count": 49,
     "metadata": {},
     "output_type": "execute_result"
    }
   ],
   "source": [
    "# look at the distribution of the age variable for people who whom inctot is NOT missing\n",
    "\n",
    "df[\"age\"][df[\"inctot\"].notna()].value_counts(dropna=False)"
   ]
  },
  {
   "cell_type": "markdown",
   "metadata": {},
   "source": [
    "**Most people whose `inctot` value is 9999999 appear to be children, and those that do not have 9999999 value appear to not be children. Therefore, I think it's okay to exclude these people from analysis.**"
   ]
  },
  {
   "cell_type": "markdown",
   "metadata": {},
   "source": [
    "### Exercise 7\n",
    "\n",
    "Great, so now we know why those people had missing data, and we're ok with excluding them. \n",
    "\n",
    "But as we previously noted, there are also a lot of observations of zero income in our data, and it's not clear that we want everyone with a zero-income *should* be included in this average, since those may be people who are retired, or in school. \n",
    "\n",
    "Let's limit our attention to people who are currently working by subsetting to only employed respondents. We can do this using `empstat`. Remember you can use `value_counts()` to see what values of `empstat` are in the data!"
   ]
  },
  {
   "cell_type": "code",
   "execution_count": 50,
   "metadata": {},
   "outputs": [
    {
     "data": {
      "text/plain": [
       "empstat\n",
       "employed              148758\n",
       "not in labor force    104676\n",
       "n/a                    57843\n",
       "unemployed              7727\n",
       "Name: count, dtype: int64"
      ]
     },
     "execution_count": 50,
     "metadata": {},
     "output_type": "execute_result"
    }
   ],
   "source": [
    "df[\"empstat\"].value_counts(dropna=False)"
   ]
  },
  {
   "cell_type": "code",
   "execution_count": 51,
   "metadata": {},
   "outputs": [
    {
     "data": {
      "text/plain": [
       "age\n",
       "54                      3591\n",
       "53                      3445\n",
       "56                      3422\n",
       "55                      3415\n",
       "47                      3378\n",
       "                        ... \n",
       "5                          0\n",
       "4                          0\n",
       "3                          0\n",
       "2                          0\n",
       "less than 1 year old       0\n",
       "Name: count, Length: 97, dtype: int64"
      ]
     },
     "execution_count": 51,
     "metadata": {},
     "output_type": "execute_result"
    }
   ],
   "source": [
    "df_employed = df[df[\"empstat\"] == \"employed\"]\n",
    "\n",
    "# look at the distribution of the age variable for people who are employed\n",
    "df_employed[\"age\"].value_counts(dropna=False)"
   ]
  },
  {
   "cell_type": "markdown",
   "metadata": {},
   "source": [
    "### Exercise 8\n",
    "\n",
    "Now let's estimate the racial income gap in the United States. What is the average salary for employed Black Americans, and what is the average salary for employed White Americans? In percentage terms, how much more does the average White American make than the average Black American?\n",
    "\n",
    "**Note:** these values are not quite accurate estimates. As we'll discuss in later lessons, to get completely accurate estimates from the ACS we have to take into account how people were selected to be interviewed. But you get pretty good estimates in most cases even without weights—your estimate of the racial wage gap without weights is within 5\\% of the corrected value. \n",
    "\n",
    "**Note:** This is actually an underestimate of the wage gap. The US Census treats Hispanic respondents as a sub-category of \"White.\" While all ethnic distinctions are socially constructed, and so on some level these distinctions are all deeply problematic, this coding is inconsistent with what most Americans think of when they hear the term \"White,\" a term *most* Americans think of as a category that is mutually exclusive of being Hispanic or Latino (categories which are also usually conflated in American popular discussion). With that in mind, most researchers working with US Census data split \"White\" into \"White, Hispanic\" and \"White, Non-Hispanic\" using `race` *and* `hispan`. But for the moment, just identify \"White\" respondents using the value in `race`.\n",
    "\n",
    "Store your results in `results` under the keys `\"ex8_avg_income_black\"`, `\"ex8_avg_income_white\"`, and the percentage difference as `ex8_racial_difference`. Please note the wording above when calculating the percentage difference to ensure you get the reference category correct, and interpret your result as well."
   ]
  },
  {
   "cell_type": "code",
   "execution_count": 52,
   "metadata": {},
   "outputs": [
    {
     "data": {
      "text/plain": [
       "race\n",
       "white                               116017\n",
       "black/african american/negro         13175\n",
       "other asian or pacific islander       6424\n",
       "other race, nec                       5755\n",
       "two major races                       3135\n",
       "chinese                               2149\n",
       "american indian or alaska native      1290\n",
       "three or more major races              426\n",
       "japanese                               387\n",
       "Name: count, dtype: int64"
      ]
     },
     "execution_count": 52,
     "metadata": {},
     "output_type": "execute_result"
    }
   ],
   "source": [
    "# look at the distribution of race for people who are employed\n",
    "df_employed[\"race\"].value_counts(dropna=False)"
   ]
  },
  {
   "cell_type": "code",
   "execution_count": 53,
   "metadata": {},
   "outputs": [
    {
     "name": "stdout",
     "output_type": "stream",
     "text": [
      "The average income for black employed population is $41,747.95\n",
      "The average income for white employed population is $60,473.15\n"
     ]
    }
   ],
   "source": [
    "black_income = df_employed[df_employed[\"race\"] == \"black/african american/negro\"][\n",
    "    \"inctot\"\n",
    "]\n",
    "white_income = df_employed[df_employed[\"race\"] == \"white\"][\"inctot\"]\n",
    "\n",
    "results[\"ex8_avg_income_black\"] = black_income.mean()\n",
    "results[\"ex8_avg_income_white\"] = white_income.mean()\n",
    "\n",
    "print(\n",
    "    f\"The average income for black employed population is ${results['ex8_avg_income_black']:,.2f}\"\n",
    "    + \"\\n\"\n",
    "    + f\"The average income for white employed population is ${results['ex8_avg_income_white']:,.2f}\"\n",
    ")"
   ]
  },
  {
   "cell_type": "code",
   "execution_count": 54,
   "metadata": {},
   "outputs": [
    {
     "name": "stdout",
     "output_type": "stream",
     "text": [
      "The percentage difference in income between black and white employed population is 44.85%\n"
     ]
    }
   ],
   "source": [
    "results[\"ex8_racial_difference\"] = (\n",
    "    (results[\"ex8_avg_income_white\"] - results[\"ex8_avg_income_black\"])\n",
    "    / results[\"ex8_avg_income_black\"]\n",
    "    * 100\n",
    ")\n",
    "print(\n",
    "    f\"The percentage difference in income between black and white employed population is {results['ex8_racial_difference']/100:.2%}\"\n",
    ")"
   ]
  },
  {
   "cell_type": "markdown",
   "metadata": {},
   "source": [
    "### Exercise 9\n",
    "\n",
    "\n",
    "As noted above, these estimates are not actually *quite* correct because we aren't taking into account the fact that when the US Census decided who to survey, not all Americans had the same likelihood of being asked. The US American Community Survey is an example of a *weighted* survey (essentially, people from smaller subpopulations have a higher likelihood of being included to ensure enough individuals in the final survey to constitute a representative sample that can be used statistically). \n",
    "\n",
    "To calculate a weighted average that takes into account these survey weights (in other words, a more accurate estimate of US incomes), you need to use the following formula:\n",
    "\n",
    "$$weighted\\_mean\\_of\\_x = \\frac{\\sum_i x_i * weight_i}{\\sum_i weight_i}$$\n",
    "\n",
    "(As you can see, when $weight_i$ is constant for all observations, this just simplifies to our normal formula for mean values. It is only when weights vary across individuals that weights must be explicitly addressed).\n",
    "\n",
    "In this data, weights are stored in the variable `perwt`, which is the number of people for which each observation is a stand-in (the inverse of that observation's sampling probability). \n",
    "\n",
    "Using the formula, re-calculate the *weighted* average income for both populations and store them as `ex9_avg_income_white` and `ex9_avg_income_black`.\n"
   ]
  },
  {
   "cell_type": "code",
   "execution_count": 55,
   "metadata": {},
   "outputs": [
    {
     "data": {
      "text/plain": [
       "perwt\n",
       "66     1543\n",
       "63     1537\n",
       "62     1528\n",
       "59     1503\n",
       "64     1490\n",
       "       ... \n",
       "664       1\n",
       "833       1\n",
       "997       1\n",
       "528       1\n",
       "640       1\n",
       "Name: count, Length: 780, dtype: int64"
      ]
     },
     "execution_count": 55,
     "metadata": {},
     "output_type": "execute_result"
    }
   ],
   "source": [
    "df_employed[\"perwt\"].value_counts(dropna=False)"
   ]
  },
  {
   "cell_type": "code",
   "execution_count": 56,
   "metadata": {},
   "outputs": [
    {
     "name": "stdout",
     "output_type": "stream",
     "text": [
      "The weighted average income for black employed population is $40,430.95\n"
     ]
    }
   ],
   "source": [
    "black_weight = df_employed[df_employed[\"race\"] == \"black/african american/negro\"][\n",
    "    \"perwt\"\n",
    "]\n",
    "black_weighted_inc = black_income * black_weight\n",
    "results[\"ex9_avg_income_black\"] = black_weighted_inc.sum() / black_weight.sum()\n",
    "\n",
    "print(\n",
    "    f\"The weighted average income for black employed population is ${results['ex9_avg_income_black']:,.2f}\"\n",
    ")"
   ]
  },
  {
   "cell_type": "code",
   "execution_count": 57,
   "metadata": {},
   "outputs": [
    {
     "name": "stdout",
     "output_type": "stream",
     "text": [
      "The weighted average income for white employed population is $58,361.48\n"
     ]
    }
   ],
   "source": [
    "white_weight = df_employed[df_employed[\"race\"] == \"white\"][\"perwt\"]\n",
    "white_weighted_inc = white_income * white_weight\n",
    "results[\"ex9_avg_income_white\"] = white_weighted_inc.sum() / white_weight.sum()\n",
    "\n",
    "print(\n",
    "    f\"The weighted average income for white employed population is ${results['ex9_avg_income_white']:,.2f}\"\n",
    ")"
   ]
  },
  {
   "cell_type": "markdown",
   "metadata": {},
   "source": [
    "### Exercise 10\n",
    "\n",
    "Now calculate the weighted average income gap between *non-Hispanic* White Americans and Black Americans. What percentage more do employed White non-Hispanic Americans earn than employed Black Americans? Store as `\"ex10_wage_gap\"`."
   ]
  },
  {
   "cell_type": "code",
   "execution_count": 58,
   "metadata": {},
   "outputs": [
    {
     "data": {
      "text/plain": [
       "hispan\n",
       "not hispanic    128293\n",
       "mexican          12437\n",
       "other             5302\n",
       "puerto rican      1787\n",
       "cuban              939\n",
       "Name: count, dtype: int64"
      ]
     },
     "execution_count": 58,
     "metadata": {},
     "output_type": "execute_result"
    }
   ],
   "source": [
    "df_employed[\"hispan\"].value_counts(dropna=False)"
   ]
  },
  {
   "cell_type": "code",
   "execution_count": 59,
   "metadata": {},
   "outputs": [
    {
     "name": "stdout",
     "output_type": "stream",
     "text": [
      "The weighted average income for white employed population is $58,361.48\n"
     ]
    },
    {
     "name": "stderr",
     "output_type": "stream",
     "text": [
      "/var/folders/rs/c8pwrc0n0w5dp0btv3ttdpfw0000gn/T/ipykernel_78823/2083852603.py:1: UserWarning: Boolean Series key will be reindexed to match DataFrame index.\n",
      "  white_nonhis_weight = df_employed[df_employed[\"race\"] == \"white\"][\n",
      "/var/folders/rs/c8pwrc0n0w5dp0btv3ttdpfw0000gn/T/ipykernel_78823/2083852603.py:4: UserWarning: Boolean Series key will be reindexed to match DataFrame index.\n",
      "  white_nonhis_income = df_employed[df_employed[\"race\"] == \"white\"][\n"
     ]
    }
   ],
   "source": [
    "white_nonhis_weight = df_employed[df_employed[\"race\"] == \"white\"][\n",
    "    df_employed[\"hispan\"] == \"not hispanic\"\n",
    "][\"perwt\"]\n",
    "white_nonhis_income = df_employed[df_employed[\"race\"] == \"white\"][\n",
    "    df_employed[\"hispan\"] == \"not hispanic\"\n",
    "][\"inctot\"]\n",
    "white_weighted_inc = white_nonhis_income * white_nonhis_weight\n",
    "nonhis_white = white_weighted_inc.sum() / white_nonhis_weight.sum()\n",
    "\n",
    "print(\n",
    "    f\"The weighted average income for white employed population is ${results['ex9_avg_income_white']:,.2f}\"\n",
    ")"
   ]
  },
  {
   "cell_type": "code",
   "execution_count": 60,
   "metadata": {},
   "outputs": [
    {
     "name": "stdout",
     "output_type": "stream",
     "text": [
      "The percentage difference in income between black and white employed population is 52.53%\n"
     ]
    }
   ],
   "source": [
    "results[\"ex10_wage_gap\"] = (\n",
    "    (nonhis_white - results[\"ex9_avg_income_black\"])\n",
    "    / results[\"ex9_avg_income_black\"]\n",
    "    * 100\n",
    ")\n",
    "print(\n",
    "    f\"The percentage difference in income between black and white employed population is {results['ex10_wage_gap']/100:.2%}\"\n",
    ")"
   ]
  },
  {
   "cell_type": "code",
   "execution_count": 61,
   "metadata": {},
   "outputs": [
    {
     "name": "stdout",
     "output_type": "stream",
     "text": [
      "ex2_avg_income: 1723646.2703978634\n",
      "ex3_share_making_9999999: 0.1689665333350052\n",
      "ex3_share_making_zero: 0.10557547867738336\n",
      "ex5_avg_income: 40890.177564946454\n",
      "ex8_avg_income_black: 41747.949905123336\n",
      "ex8_avg_income_white: 60473.15372747098\n",
      "ex8_racial_difference: 44.85299006275197\n",
      "ex9_avg_income_black: 40430.953355310274\n",
      "ex9_avg_income_white: 58361.48196061399\n",
      "ex10_wage_gap: 52.52989147705372\n"
     ]
    }
   ],
   "source": [
    "for k, v in results.items():\n",
    "    print(f\"{k}: {v}\")"
   ]
  },
  {
   "cell_type": "markdown",
   "metadata": {},
   "source": [
    "### Exercise 11\n",
    "\n",
    "Is that greater or less than the difference you found in Exercise 8? Why do you think that's the case?"
   ]
  },
  {
   "cell_type": "markdown",
   "metadata": {},
   "source": [
    "**The difference is greater than that in exercise 8 - an increase from 44.85% to 52.53%, which likely occurs due to**\\\n",
    "**- The removal of the employed hispanic population from white population.**\\\n",
    "**- The initial non-weighted averaging method gives minorities, who often have less income on average, more representation than their actual proportion.**"
   ]
  },
  {
   "cell_type": "code",
   "execution_count": 62,
   "metadata": {},
   "outputs": [],
   "source": [
    "assert set(results.keys()) == {\n",
    "    \"ex2_avg_income\",\n",
    "    \"ex3_share_making_9999999\",\n",
    "    \"ex3_share_making_zero\",\n",
    "    \"ex5_avg_income\",\n",
    "    \"ex8_avg_income_black\",\n",
    "    \"ex8_avg_income_white\",\n",
    "    \"ex8_racial_difference\",\n",
    "    \"ex9_avg_income_black\",\n",
    "    \"ex9_avg_income_white\",\n",
    "    \"ex10_wage_gap\",\n",
    "}"
   ]
  }
 ],
 "metadata": {
  "kernelspec": {
   "display_name": "base",
   "language": "python",
   "name": "python3"
  },
  "language_info": {
   "codemirror_mode": {
    "name": "ipython",
    "version": 3
   },
   "file_extension": ".py",
   "mimetype": "text/x-python",
   "name": "python",
   "nbconvert_exporter": "python",
   "pygments_lexer": "ipython3",
   "version": "3.12.11"
  }
 },
 "nbformat": 4,
 "nbformat_minor": 4
}
